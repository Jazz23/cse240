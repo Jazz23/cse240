{
 "cells": [
  {
   "cell_type": "markdown",
   "metadata": {
    "id": "GWCPCDvGW_cm"
   },
   "source": [
    "# Assignment 1\n",
    "\n",
    "\n",
    "You must submit your notebook by running `python3 -m autograder.cli.submission.submit Assignment1.ipynb` from your local repository.\n",
    "\n",
    "To write legible answers you will need to be familiar with both [Markdown](https://github.com/adam-p/markdown-here/wiki/Markdown-Cheatsheet) and [Latex](https://www.latex-tutorial.com/tutorials/amsmath/)\n",
    "\n",
    "Before you turn this problem in, make sure everything runs as expected. To do so, restart the kernel and run all cells (in the menubar, select Runtime→→Restart and run all).\n",
    "\n",
    "#### Show your work!\n",
    "Whenever you are asked to find the solution to a problem, be sure to also **show how you arrived** at your answer.\n",
    "\n",
    "Make sure you fill in any place that says \"YOUR CODE HERE\" or \"YOUR ANSWERS HERE\", as well as your name below:\n",
    "\n",
    "\n",
    "<br><br>\n",
    "Justin Frauenhofer<br>\n",
    "jtfrauen@ucsc.edu<br>\n",
    "ID# 1919296"
   ]
  },
  {
   "cell_type": "markdown",
   "metadata": {
    "id": "Hc-OUgRxWIPM"
   },
   "source": [
    "## Q1\n",
    "\n",
    "![figure](https://docs.google.com/drawings/d/e/2PACX-1vR3cNeZWfHNbPXRGyZrKazhI2WNM9wroJoAsshbD7LzwEBd4k0W_zu-T30_O_4iHC2qpKRxCRBA1IjV/pub?w=480&h=320)\n",
    "\n",
    "Which solution would the following search algorithms find to move from node *Start* to node *Goal* if run the algorithm on the search graph above? Break any ties alphabetically. Please give each answer in a form similar to this example: `[start, 'a', 'd', goal]`\n",
    "\n",
    "a. Breadth-First Search\n",
    "\n",
    "b. Depth-First Search\n",
    "\n",
    "c. Uniform Cost Search\n",
    "\n",
    "Explain by drawing an equivalent search tree for each of them. Draw the search trees graphically. A good way to do this is through [Google Drawings](https://docs.google.com/drawings)\n",
    "\n"
   ]
  },
  {
   "cell_type": "code",
   "execution_count": 57,
   "metadata": {},
   "outputs": [],
   "source": [
    "# YOUR ANSWERS HERE\n",
    "def question1():\n",
    "    \"\"\"\n",
    "    Description:\n",
    "    [Enter a description of your reasoning for each of a through c here.]\n",
    "\n",
    "    TODO: Drawings\n",
    "\n",
    "    For BFS, I simply iterated each node using a queue (FIFO), adding\n",
    "    the adjacent node to the queue, and dequeing until I found the end. \n",
    "    Since the path through D required the fewest number of steps,\n",
    "    it was the chosen solution.\n",
    "\n",
    "    For DFS, I used a stack instead of a queue and traveresed to the very \n",
    "    end before even considering node D. This led the result on the first pass,\n",
    "    so I exited at that point.\n",
    "\n",
    "    For uniform cost search, I kept track of which paths were the cheapest to traverse, \n",
    "    always choosing the cheapest node to expand first. It was clear the solution was the path \n",
    "    totalling a weight of 5.\n",
    "\n",
    "\n",
    "    \"\"\"\n",
    "    start = 'Start'\n",
    "    goal = 'Goal'\n",
    "    \n",
    "    a = [start, 'd', goal]\n",
    "    b = [start, 'a', 'b', 'c', goal]\n",
    "    c = [start, 'a', 'b', goal]\n",
    "    \n",
    "    return a, b, c"
   ]
  },
  {
   "cell_type": "markdown",
   "metadata": {},
   "source": [
    "![figure](https://docs.google.com/drawings/d/e/2PACX-1vQJlmKu3CjuGkietHgBI4bcnojxZycqE0fRMuUFAkzoR6mlDSth_zOfxVUleIJOqkAEB3vIqWAidREo/pub?w=470&h=353)\n",
    "\n",
    "![figure](https://docs.google.com/drawings/d/e/2PACX-1vRlzapY_o2LqmStXWw_bbg_RC-xLfmALnizMVtEPxjSovvPqn4OeMDsuqQSWSEEgfVdD8XneT96HYt4/pub?w=470&h=353)\n",
    "\n",
    "![figure](https://docs.google.com/drawings/d/e/2PACX-1vRXR2BVHuD79k7EWzahtq0zSTflsxy-oxq27h79jrH_-wlShLTLjb_hrNfEN0XzLQplKhas9R0kfwwB/pub?w=470&h=353)"
   ]
  },
  {
   "cell_type": "markdown",
   "metadata": {
    "id": "2cCZFudXW_cp"
   },
   "source": [
    "## Q2\n",
    "Answer the following questions about the search problem shown in the figure below. Break any ties alphabetically. For the questions that ask for a path, please give your answers in a form similar to this example: `[start, 'a', 'd', goal]`. For questions `e` and `f`, please return either `True` or `False`.\n",
    "\n",
    "Start − a − d − Goal\n",
    "\n",
    "![figure](https://docs.google.com/drawings/d/e/2PACX-1vS4nUoOVGzXNZTHZLsY6wZ6VyjtPlA4mhcvWs-6mgwaeDwoMftqbYyytgBVmgOnqLoUGZbRt8cuQNfA/pub?w=640&h=480)\n",
    "\n",
    "What path would be returned for this search problem using each of the following graph search algorithms?\n",
    "\n",
    "a. Breadth-First Search\n",
    "\n",
    "b. Uniform Cost Search\n",
    "\n",
    "c. Depth-First Search\n",
    "\n",
    "d. A* Search (using an appropriate heuristic function). Explain what heuristc function you used.\n",
    "\n",
    "\n",
    "\n",
    "Consider the heuristics for this problem shown in the table below.\n",
    "\n",
    "|     State     |     h1     |     h2        |\n",
    "|---------------|------------|---------------|\n",
    "|     start     |     5      |     4         |\n",
    "|     a         |     3      |     2         |\n",
    "|     b         |     6      |     6         |\n",
    "|     c         |     2      |     1         |\n",
    "|     d         |     3      |     3         |\n",
    "|     goal      |     0      |     0         |\n",
    "\n",
    "\n",
    "e. Is h1 consistent?\n",
    "\n",
    "f. Is h2 consistent?"
   ]
  },
  {
   "cell_type": "code",
   "execution_count": 58,
   "metadata": {},
   "outputs": [],
   "source": [
    "# YOUR ANSWERS HERE\n",
    "def question2():\n",
    "    \"\"\"\n",
    "    Description:\n",
    "    [Enter a description of your reasoning for each of a through f here.]\n",
    "\n",
    "    For BFS, I added start's neighbors to the fringe, a and goal. I expanded a, adding it's neighbors. I then expanded goal,\n",
    "    and returned the resulting path start->goal.\n",
    "\n",
    "    For DFS, I also added neighboring nodes but instead expanding in LIFO order, resulting in me going all the way down to\n",
    "    the goal always taking the leftmost option.\n",
    "\n",
    "    For UCS, I used a priority queue, expanding the cheapest nodes first from the fringe and adding their neighbors (along with\n",
    "    their respective costs) to the fringe. Once I popped off the goal, I returned.\n",
    "    \n",
    "    For my A* heuristic, I simply chose it to be the number of hops required to reach\n",
    "    the goal. This is basically just BFS for each node. This will be admissable and consistent since the hop\n",
    "    count can only either be exactly the path cost or less.\n",
    "\n",
    "    I started by adding (start, 0) to my fringe. I then expanded it and removed it from the fringe,\n",
    "    adding each neighbor (a and goal) the open list. I added the cost of the path, g(n), to the\n",
    "    heuristic (h(n)) and picked the most promising node. Since my heuristic for node \"a\" (h(n)=2)\n",
    "    plus the cost (g(a)=1) came out to 3, and 3 was much less than the 12 I calcualted for \"goal\" node,\n",
    "    I chose to continue with node \"a.\" I removed it from the open list, added it's neighbors with their\n",
    "    g(n), and continue choosing nodes by adding the heuristic to the actual cost and picking the cheapest one.\n",
    "\n",
    "    e. h(start) > h*(start), therefore h is not admissable and therefore cannot be consistent.\n",
    "    f. Somewhere the path decreases I guess??\n",
    "    \"\"\"\n",
    "    start = 'Start'\n",
    "    goal = 'Goal'\n",
    "       \n",
    "    a = [start, goal] \n",
    "    b = [start, 'a', 'c', goal]\n",
    "    c = [start, 'a', 'b', 'd', goal]\n",
    "    d = [start, 'a', 'c', goal]\n",
    "    e = False\n",
    "    f = False\n",
    "    \n",
    "    return a, b, c, d, e, f"
   ]
  },
  {
   "cell_type": "markdown",
   "metadata": {
    "id": "_uecj_VM0l1a"
   },
   "source": [
    "## Chess \n",
    "The remaining questions in this assignment, as well as all the questions in the following assignment, will make use of Python's chess module.\n",
    "\n",
    "If you're not familiar with this, it would probably be beneficial to spend some time going over it before getting started with the rest of the assignment. The official documentation is one place to get started: `https://python-chess.readthedocs.io/en/latest/`\n"
   ]
  },
  {
   "cell_type": "markdown",
   "metadata": {},
   "source": [
    "## The Knight Errant Problem\n",
    "The knight begins their quest in the bottom left-hand corner of the board, the tile 'A1'. Their quest will end when they reach the upper right-hand corner of the board, the tile 'H8'. Along the way, the knight will pass through many other tiles on the board. \n",
    "\n",
    "For each of the following questions, implement the corresponding search algorithm and return the list of tiles visited, in order. In Python's chess module, each tile has an integer id corresponding to it, where `'A1' = 0`, `'A2' = 1`, etc, and you should please manipulate them as integers.\n",
    "\n",
    "For example, the knight starting on tile `'A1' = 1` and moving through tiles `'A1' = 0`, `'A2' = 1`, and `'A3' = 2`, in that order, before finally reaching the destination `'A4' = 3` would be represented by the list `[0, 1, 2, 3]`.\n",
    "\n",
    "As one final piece of advice, it is not necessary to invent any grand new functions here to help you interface with the chess board. If you have an idea for something and it seems like too much, there may very well be a built-in chess module function that can do it for you. Please have a look before diving in head-first.\n",
    "\n",
    "A function to check whether a given board meets the goal condition is provided here for you below:"
   ]
  },
  {
   "cell_type": "code",
   "execution_count": 59,
   "metadata": {},
   "outputs": [],
   "source": [
    "import chess\n",
    "\n",
    "def goal_reached(board: chess.Board, goal_position: chess.Square):\n",
    "    \"\"\"\n",
    "    This function informs us as to whether the goal condition has been met during our search\n",
    "\n",
    "    Parameters:\n",
    "    - board: the chess board that the knight is moving upon\n",
    "\n",
    "    Returns:\n",
    "    - True: if the knight is on the destination tile 'H8'\n",
    "    - False: otherwise\n",
    "    \"\"\"\n",
    "    p = board.piece_at(goal_position)\n",
    "    return p and p.piece_type == chess.KNIGHT and p.color == chess.WHITE"
   ]
  },
  {
   "cell_type": "markdown",
   "metadata": {},
   "source": [
    "## Q3\n",
    "Implement the **Breadth-First Search** (BFS) algorithm to find the order of visited tiles for the the Knight Errant Problem.\n",
    "\n",
    "Break ties in the order given by `board.legal_moves`. Please give your answer in a form similar to this example: `[0, 31, 15, ..., 63]`"
   ]
  },
  {
   "cell_type": "code",
   "execution_count": 60,
   "metadata": {},
   "outputs": [],
   "source": [
    "# Helpers\n",
    "import queue\n",
    "from typing import Union\n",
    "\n",
    "class Knight:\n",
    "    def __init__(self, board: chess.Board):\n",
    "        self.board = board\n",
    "        self.position = chess.A1\n",
    "\n",
    "    # Updates the board and self.position with the new move\n",
    "    def move_to(self, square: chess.Square) -> None:\n",
    "        if (self.position == square): # No need to move\n",
    "            return\n",
    "        \n",
    "        move = chess.Move(self.position, square)\n",
    "\n",
    "        if self.board.piece_at(move.from_square) != chess.Piece(chess.KNIGHT, chess.WHITE):\n",
    "            raise ValueError(\"The knight is not at the given position\")\n",
    "        \n",
    "        self.board.push(move)\n",
    "        self.board.turn = chess.WHITE # Make sure white's moves are always valid\n",
    "        self.position = move.to_square\n",
    "\n",
    "    # Returns a list of valid moves for the knight\n",
    "    def get_legal_destinations(self) -> list[int]:\n",
    "        return [move.to_square for move in self.board.legal_moves]\n",
    "    \n",
    "def search(fringe: Union[queue.Queue, queue.LifoQueue], board: chess.Board, goal_position: chess.Square) -> list[int]:\n",
    "    knight = Knight(board.copy()) # Knight class for tracking position and moves\n",
    "    expanded = set()\n",
    "    search_path = []\n",
    "    fringe.put(knight.position)\n",
    "\n",
    "    while not fringe.empty():\n",
    "        square = fringe.get()\n",
    "        expanded.add(square)\n",
    "        knight.move_to(square)\n",
    "        search_path.append(knight.position)\n",
    "        if (goal_reached(knight.board, goal_position)):\n",
    "            return search_path\n",
    "        \n",
    "        # Iterate valid destinations not already expanded and add to fringe\n",
    "        for move in knight.board.legal_moves:\n",
    "            if move.to_square not in expanded:\n",
    "                fringe.put(move.to_square)\n",
    "\n",
    "    raise ValueError(\"The goal position was not found\")"
   ]
  },
  {
   "cell_type": "code",
   "execution_count": 61,
   "metadata": {},
   "outputs": [],
   "source": [
    "import queue\n",
    "\n",
    "def BFS(board: chess.Board, goal_position: chess.Square):\n",
    "    \"\"\"\n",
    "    This function implements the breath first search algorithm\n",
    "    \n",
    "    Parameters:\n",
    "    - board: the chess board that the knight is moving upon\n",
    "    \n",
    "    Returns:\n",
    "    A list containing the visited tile values in the order they were visited with starting tile\n",
    "    always being the first tile and the goal tile always being the last tile\n",
    "    \"\"\"\n",
    "\n",
    "    return search(queue.Queue(), board, goal_position) # FIFO Queue for BFS\n",
    "\n"
   ]
  },
  {
   "cell_type": "code",
   "execution_count": null,
   "metadata": {},
   "outputs": [],
   "source": [
    "test_board = chess.Board(\"8/8/8/8/8/8/8/N7\")\n",
    "test_goal = chess.H8\n",
    "print(test_board)\n",
    "\n",
    "q3 = BFS(test_board, test_goal)\n",
    "print(q3)"
   ]
  },
  {
   "cell_type": "markdown",
   "metadata": {},
   "source": [
    "## Q4\n",
    "Implement the **Depth-First Search** (DFS) algorithm to find the order of visited tiles for the the Knight Errant Problem.\n",
    "\n",
    "Break ties in the order given by `board.legal_moves`. Please give your answer in a form similar to this example: `[0, 31, 15, ..., 63]`"
   ]
  },
  {
   "cell_type": "code",
   "execution_count": 63,
   "metadata": {},
   "outputs": [],
   "source": [
    "def DFS(board: chess.Board, goal_position: chess.Square):\n",
    "    \"\"\"\n",
    "    This function implements the depth first search algorithm\n",
    "    \n",
    "    Parameters:\n",
    "    - board: the chess board that the knight is moving upon\n",
    "    \n",
    "    Returns:\n",
    "    A list containing the visited tile values in the order they were visited with starting tile\n",
    "    always being the first tile and the goal tile always being the last tile\n",
    "    \"\"\"\n",
    "    return search(queue.LifoQueue(), board, goal_position) # FIFO Queue for BFS\n"
   ]
  },
  {
   "cell_type": "code",
   "execution_count": null,
   "metadata": {},
   "outputs": [],
   "source": [
    "test_board = chess.Board(\"8/8/8/8/8/8/8/N7\")\n",
    "test_goal = chess.H8\n",
    "print(test_board)\n",
    "\n",
    "q4 = DFS(test_board, test_goal)\n",
    "print(q4)"
   ]
  },
  {
   "cell_type": "markdown",
   "metadata": {
    "id": "LM0yg5nnW_cx"
   },
   "source": [
    "## Q5\n",
    "Implement the **A* Search** (Textbook Section 3.5.2) algorithm to find the **final path found** for the Knight Errant Problem.\n",
    "\n",
    "#### A* Search\n",
    "---\n",
    "The most widely known form of best-first search is called **A∗ search** (pronounced \"A-star search\"). It evaluates nodes by combining $g(n)$, the cost to reach the node, and $h(n)$, the cost to get from the node to the goal:\n",
    "\n",
    "\\begin{equation*}\n",
    "f(n) = g(n) + h(n) .\n",
    "\\end{equation*}\n",
    "\n",
    "Since $g(n)$ gives the path cost from the start node to node $n$, and $h(n)$ is the estimated cost of the cheapest path from n to the goal, we have\n",
    "\n",
    "\n",
    "$f(n)$= estimated cost of the cheapest solution through $n$ .\n",
    "\n",
    "**NOTE:**\n",
    "- If two positions are considered equally good choices, take the node that appears first in board.legal_moves\n",
    "- You may also find the built-in function `chess.square_knight_distance(a, b)` useful here\n"
   ]
  },
  {
   "cell_type": "code",
   "execution_count": 65,
   "metadata": {},
   "outputs": [],
   "source": [
    "import queue\n",
    "\n",
    "class Node:\n",
    "    def __init__(self, square: chess.Square, parent: Node, cost: int):\n",
    "        self.square = square\n",
    "        self.cost = cost\n",
    "\n",
    "def forward_cost(square: chess.Square, goal_position: chess.Square) -> int:\n",
    "    return chess.square_knight_distance(square, goal_position)\n",
    "\n",
    "def a_star_search(board: chess.Board, goal_position: chess.Square):\n",
    "    \"\"\"\n",
    "    This function implements the A* search algorithm\n",
    "\n",
    "    Parameters:\n",
    "    - board: the chess board that the knight is moving upon\n",
    "\n",
    "    Returns:\n",
    "    A list containing the final path returned by A*, starting with the start tile's ID and ending with the goal tile's ID.\n",
    "    \"\"\"\n",
    "    knight = Knight(board) # Knight class for tracking position and moves\n",
    "    expanded = set()\n",
    "    q = queue.PriorityQueue()\n",
    "    q.put((0, knight.position))\n",
    "\n",
    "    while not q.empty():\n",
    "        cost, square = q.get()\n",
    "        expanded.append(knight.position)\n",
    "\n",
    "        # Move the knight to the last position in the moves list\n",
    "        knight.move_to(square)\n",
    "        if goal_reached(knight.board, goal_position):\n",
    "            return move_list\n",
    "        \n",
    "        # Add all possible moves to the queue\n",
    "        for destination in knight.get_legal_destinations():\n",
    "            if destination not in visited:\n",
    "                # cost + 1 is the backward cost, est_cost is the sum of g(n) and h(n)\n",
    "                est_cost = cost + 1 + forward_cost(destination, goal_position)\n",
    "                q.put((est_cost, move_list + [destination]))\n",
    "\n",
    "    raise ValueError(\"The goal position was not found\")\n"
   ]
  },
  {
   "cell_type": "code",
   "execution_count": null,
   "metadata": {},
   "outputs": [],
   "source": [
    "test_board = chess.Board(\"8/8/8/8/8/8/8/N7\")\n",
    "test_goal = chess.H8\n",
    "print(test_board)\n",
    "\n",
    "q5 = a_star_search(test_board, test_goal)\n",
    "print(q5)\n"
   ]
  }
 ],
 "metadata": {
  "colab": {
   "collapsed_sections": [
    "Hc-OUgRxWIPM"
   ],
   "provenance": []
  },
  "kernelspec": {
   "display_name": "Python 3",
   "language": "python",
   "name": "python3"
  },
  "language_info": {
   "codemirror_mode": {
    "name": "ipython",
    "version": 3
   },
   "file_extension": ".py",
   "mimetype": "text/x-python",
   "name": "python",
   "nbconvert_exporter": "python",
   "pygments_lexer": "ipython3",
   "version": "3.12.6"
  }
 },
 "nbformat": 4,
 "nbformat_minor": 1
}
